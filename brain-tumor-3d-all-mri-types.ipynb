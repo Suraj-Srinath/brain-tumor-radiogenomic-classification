{
 "cells": [
  {
   "cell_type": "markdown",
   "id": "23a044ae",
   "metadata": {
    "papermill": {
     "duration": 0.020942,
     "end_time": "2021-09-20T20:45:40.749737",
     "exception": false,
     "start_time": "2021-09-20T20:45:40.728795",
     "status": "completed"
    },
    "tags": []
   },
   "source": [
    "## ☀️ Importing Libraries"
   ]
  },
  {
   "cell_type": "code",
   "execution_count": 1,
   "id": "c40cd669",
   "metadata": {
    "execution": {
     "iopub.execute_input": "2021-09-20T20:45:40.795947Z",
     "iopub.status.busy": "2021-09-20T20:45:40.794466Z",
     "iopub.status.idle": "2021-09-20T20:45:46.083330Z",
     "shell.execute_reply": "2021-09-20T20:45:46.082339Z",
     "shell.execute_reply.started": "2021-09-20T20:35:55.946092Z"
    },
    "papermill": {
     "duration": 5.312181,
     "end_time": "2021-09-20T20:45:46.083494",
     "exception": false,
     "start_time": "2021-09-20T20:45:40.771313",
     "status": "completed"
    },
    "tags": []
   },
   "outputs": [
    {
     "name": "stderr",
     "output_type": "stream",
     "text": [
      "2021-09-20 20:45:42.453341: I tensorflow/stream_executor/platform/default/dso_loader.cc:49] Successfully opened dynamic library libcudart.so.11.0\n"
     ]
    }
   ],
   "source": [
    "import os\n",
    "import sys \n",
    "import json\n",
    "import glob\n",
    "import random\n",
    "import collections\n",
    "import time\n",
    "import re\n",
    "import math\n",
    "import numpy as np\n",
    "import pandas as pd\n",
    "import cv2\n",
    "\n",
    "import matplotlib.pyplot as plt\n",
    "import seaborn as sns\n",
    "import pydicom\n",
    "from pydicom.pixel_data_handlers.util import apply_voi_lut\n",
    "\n",
    "from random import shuffle\n",
    "from sklearn import model_selection as sk_model_selection\n",
    "\n",
    "from tensorflow import keras\n",
    "from tensorflow.keras import layers\n",
    "from tensorflow.keras.callbacks import ModelCheckpoint, EarlyStopping, ReduceLROnPlateau\n",
    "from tensorflow.keras.metrics import AUC\n",
    "\n",
    "import tensorflow as tf\n"
   ]
  },
  {
   "cell_type": "markdown",
   "id": "f3cd2807",
   "metadata": {
    "papermill": {
     "duration": 0.021127,
     "end_time": "2021-09-20T20:45:46.124719",
     "exception": false,
     "start_time": "2021-09-20T20:45:46.103592",
     "status": "completed"
    },
    "tags": []
   },
   "source": [
    "# Loading Data"
   ]
  },
  {
   "cell_type": "code",
   "execution_count": 2,
   "id": "61d0031e",
   "metadata": {
    "execution": {
     "iopub.execute_input": "2021-09-20T20:45:46.170596Z",
     "iopub.status.busy": "2021-09-20T20:45:46.170057Z",
     "iopub.status.idle": "2021-09-20T20:45:46.201136Z",
     "shell.execute_reply": "2021-09-20T20:45:46.200670Z",
     "shell.execute_reply.started": "2021-09-20T20:35:55.961120Z"
    },
    "papermill": {
     "duration": 0.056977,
     "end_time": "2021-09-20T20:45:46.201250",
     "exception": false,
     "start_time": "2021-09-20T20:45:46.144273",
     "status": "completed"
    },
    "tags": []
   },
   "outputs": [
    {
     "data": {
      "text/html": [
       "<div>\n",
       "<style scoped>\n",
       "    .dataframe tbody tr th:only-of-type {\n",
       "        vertical-align: middle;\n",
       "    }\n",
       "\n",
       "    .dataframe tbody tr th {\n",
       "        vertical-align: top;\n",
       "    }\n",
       "\n",
       "    .dataframe thead th {\n",
       "        text-align: right;\n",
       "    }\n",
       "</style>\n",
       "<table border=\"1\" class=\"dataframe\">\n",
       "  <thead>\n",
       "    <tr style=\"text-align: right;\">\n",
       "      <th></th>\n",
       "      <th>BraTS21ID</th>\n",
       "      <th>MGMT_value</th>\n",
       "      <th>BraTS21ID5</th>\n",
       "      <th>Fold</th>\n",
       "    </tr>\n",
       "  </thead>\n",
       "  <tbody>\n",
       "    <tr>\n",
       "      <th>0</th>\n",
       "      <td>0</td>\n",
       "      <td>1</td>\n",
       "      <td>00000</td>\n",
       "      <td>train</td>\n",
       "    </tr>\n",
       "    <tr>\n",
       "      <th>1</th>\n",
       "      <td>2</td>\n",
       "      <td>1</td>\n",
       "      <td>00002</td>\n",
       "      <td>train</td>\n",
       "    </tr>\n",
       "    <tr>\n",
       "      <th>2</th>\n",
       "      <td>3</td>\n",
       "      <td>0</td>\n",
       "      <td>00003</td>\n",
       "      <td>train</td>\n",
       "    </tr>\n",
       "    <tr>\n",
       "      <th>3</th>\n",
       "      <td>5</td>\n",
       "      <td>1</td>\n",
       "      <td>00005</td>\n",
       "      <td>train</td>\n",
       "    </tr>\n",
       "    <tr>\n",
       "      <th>4</th>\n",
       "      <td>6</td>\n",
       "      <td>1</td>\n",
       "      <td>00006</td>\n",
       "      <td>train</td>\n",
       "    </tr>\n",
       "  </tbody>\n",
       "</table>\n",
       "</div>"
      ],
      "text/plain": [
       "   BraTS21ID  MGMT_value BraTS21ID5   Fold\n",
       "0          0           1      00000  train\n",
       "1          2           1      00002  train\n",
       "2          3           0      00003  train\n",
       "3          5           1      00005  train\n",
       "4          6           1      00006  train"
      ]
     },
     "execution_count": 2,
     "metadata": {},
     "output_type": "execute_result"
    }
   ],
   "source": [
    "data_directory = '../input/rsna-miccai-brain-tumor-radiogenomic-classification'\n",
    "pytorch3dpath = \"../input/efficientnetpyttorch3d/EfficientNet-PyTorch-3D\"\n",
    " \n",
    "mri_types = ['FLAIR','T1w','T1wCE','T2w']\n",
    "mri_types_id=0 # 0,1,2,3\n",
    "\n",
    "IMAGE_SIZE = 150\n",
    "NUM_IMAGES = 128\n",
    "BATCH_SIZE= 4\n",
    "\n",
    "num_folds=5\n",
    "Selected_fold=1 #1,2,3,4,5 \n",
    "\n",
    "train_df = pd.read_csv(\"../input/rsna-miccai-brain-tumor-radiogenomic-classification/train_labels.csv\")\n",
    "train_df['BraTS21ID5'] = [format(x, '05d') for x in train_df.BraTS21ID]\n",
    "train_df[\"Fold\"]=\"train\"\n",
    "train_df.head(5)\n",
    "\n",
    "# For debug\n",
    "#train_df=train_df.head(n=40)"
   ]
  },
  {
   "cell_type": "code",
   "execution_count": 3,
   "id": "10b2bc37",
   "metadata": {
    "execution": {
     "iopub.execute_input": "2021-09-20T20:45:46.245116Z",
     "iopub.status.busy": "2021-09-20T20:45:46.244612Z",
     "iopub.status.idle": "2021-09-20T20:45:46.259713Z",
     "shell.execute_reply": "2021-09-20T20:45:46.259307Z",
     "shell.execute_reply.started": "2021-09-20T20:35:55.991584Z"
    },
    "papermill": {
     "duration": 0.038485,
     "end_time": "2021-09-20T20:45:46.259817",
     "exception": false,
     "start_time": "2021-09-20T20:45:46.221332",
     "status": "completed"
    },
    "tags": []
   },
   "outputs": [
    {
     "data": {
      "text/html": [
       "<div>\n",
       "<style scoped>\n",
       "    .dataframe tbody tr th:only-of-type {\n",
       "        vertical-align: middle;\n",
       "    }\n",
       "\n",
       "    .dataframe tbody tr th {\n",
       "        vertical-align: top;\n",
       "    }\n",
       "\n",
       "    .dataframe thead th {\n",
       "        text-align: right;\n",
       "    }\n",
       "</style>\n",
       "<table border=\"1\" class=\"dataframe\">\n",
       "  <thead>\n",
       "    <tr style=\"text-align: right;\">\n",
       "      <th></th>\n",
       "      <th>BraTS21ID</th>\n",
       "      <th>MGMT_value</th>\n",
       "      <th>BraTS21ID5</th>\n",
       "    </tr>\n",
       "  </thead>\n",
       "  <tbody>\n",
       "    <tr>\n",
       "      <th>0</th>\n",
       "      <td>1</td>\n",
       "      <td>0.5</td>\n",
       "      <td>00001</td>\n",
       "    </tr>\n",
       "    <tr>\n",
       "      <th>1</th>\n",
       "      <td>13</td>\n",
       "      <td>0.5</td>\n",
       "      <td>00013</td>\n",
       "    </tr>\n",
       "    <tr>\n",
       "      <th>2</th>\n",
       "      <td>15</td>\n",
       "      <td>0.5</td>\n",
       "      <td>00015</td>\n",
       "    </tr>\n",
       "  </tbody>\n",
       "</table>\n",
       "</div>"
      ],
      "text/plain": [
       "   BraTS21ID  MGMT_value BraTS21ID5\n",
       "0          1         0.5      00001\n",
       "1         13         0.5      00013\n",
       "2         15         0.5      00015"
      ]
     },
     "execution_count": 3,
     "metadata": {},
     "output_type": "execute_result"
    }
   ],
   "source": [
    "sample_submission = pd.read_csv('../input/rsna-miccai-brain-tumor-radiogenomic-classification/sample_submission.csv')\n",
    "test=sample_submission\n",
    "test['BraTS21ID5'] = [format(x, '05d') for x in test.BraTS21ID]\n",
    "test.head(3)"
   ]
  },
  {
   "cell_type": "markdown",
   "id": "1d98901f",
   "metadata": {
    "papermill": {
     "duration": 0.020036,
     "end_time": "2021-09-20T20:45:46.301294",
     "exception": false,
     "start_time": "2021-09-20T20:45:46.281258",
     "status": "completed"
    },
    "tags": []
   },
   "source": [
    "# Functions to load images\n"
   ]
  },
  {
   "cell_type": "code",
   "execution_count": 4,
   "id": "479f2484",
   "metadata": {
    "execution": {
     "iopub.execute_input": "2021-09-20T20:45:46.360122Z",
     "iopub.status.busy": "2021-09-20T20:45:46.359582Z",
     "iopub.status.idle": "2021-09-20T20:45:51.822682Z",
     "shell.execute_reply": "2021-09-20T20:45:51.823058Z",
     "shell.execute_reply.started": "2021-09-20T20:35:56.017470Z"
    },
    "papermill": {
     "duration": 5.499413,
     "end_time": "2021-09-20T20:45:51.823221",
     "exception": false,
     "start_time": "2021-09-20T20:45:46.323808",
     "status": "completed"
    },
    "tags": []
   },
   "outputs": [
    {
     "name": "stdout",
     "output_type": "stream",
     "text": [
      "(1, 150, 150, 512)\n",
      "0.0 1.0 0.22125804911014837 0.0005073431211959514\n",
      "Dimension of the CT scan is: (150, 150, 512)\n"
     ]
    },
    {
     "data": {
      "text/plain": [
       "<matplotlib.image.AxesImage at 0x7f3d44d635d0>"
      ]
     },
     "execution_count": 4,
     "metadata": {},
     "output_type": "execute_result"
    },
    {
     "data": {
      "image/png": "[encoded data removed]",
      "text/plain": [
       "<Figure size 432x288 with 1 Axes>"
      ]
     },
     "metadata": {
      "needs_background": "light"
     },
     "output_type": "display_data"
    }
   ],
   "source": [
    "def load_dicom_image(path, img_size=IMAGE_SIZE, voi_lut=True, rotate=0):\n",
    "    dicom = pydicom.read_file(path)\n",
    "    data = dicom.pixel_array\n",
    "    if voi_lut:\n",
    "        data = apply_voi_lut(dicom.pixel_array, dicom)\n",
    "    else:\n",
    "        data = dicom.pixel_array\n",
    "        \n",
    "    if rotate > 0:\n",
    "        rot_choices = [0, cv2.ROTATE_90_CLOCKWISE, cv2.ROTATE_90_COUNTERCLOCKWISE, cv2.ROTATE_180]\n",
    "        data = cv2.rotate(data, rot_choices[rotate])\n",
    "        \n",
    "    data = cv2.resize(data, (img_size, img_size))\n",
    "    return data\n",
    "\n",
    "\n",
    "def load_dicom_images_3d(scan_id, num_imgs=NUM_IMAGES, img_size=IMAGE_SIZE, mri_type=mri_types[mri_types_id], split=\"train\", rotate=0):\n",
    "\n",
    "    files = sorted(glob.glob(f\"{data_directory}/{split}/{scan_id}/{mri_type}/*.dcm\"), \n",
    "               key=lambda var:[int(x) if x.isdigit() else x for x in re.findall(r'[^0-9]|[0-9]+', var)])\n",
    "\n",
    "    middle = len(files)//2\n",
    "    num_imgs2 = num_imgs//2\n",
    "    p1 = max(0, middle - num_imgs2)\n",
    "    p2 = min(len(files), middle + num_imgs2)\n",
    "    img3d = np.stack([load_dicom_image(f, rotate=rotate) for f in files[p1:p2]]).T \n",
    "    if img3d.shape[-1] < num_imgs:\n",
    "        n_zero = np.zeros((img_size, img_size, num_imgs - img3d.shape[-1]))\n",
    "        img3d = np.concatenate((img3d,  n_zero), axis = -1)\n",
    "        \n",
    "    if np.min(img3d) < np.max(img3d):\n",
    "        img3d = img3d - np.min(img3d)\n",
    "        img3d = img3d / np.max(img3d)\n",
    "            \n",
    "    return np.expand_dims(img3d,0)\n",
    "\n",
    "# ALL MRI TYPES ONCE\n",
    "def load_all_types_imgs_3d(scan_id, mri_types=mri_types, split=\"train\", rotate=0, shuffle=True):\n",
    "    imgs3d_ = [load_dicom_images_3d(scan_id=scan_id, mri_type=x, split=split, rotate=rotate) for x in mri_types]\n",
    "    imgs3d = np.concatenate((imgs3d_), axis = -1)\n",
    "    \n",
    "    if shuffle:\n",
    "        X = imgs3d\n",
    "        #np.random.seed(SEED)\n",
    "        return np.take(X, np.random.rand(X.shape[-1]).argsort(), axis=-1, out=X)\n",
    "    \n",
    "    return imgs3d\n",
    "\n",
    "a = load_all_types_imgs_3d(\"00000\")\n",
    "print(a.shape)\n",
    "print(np.min(a), np.max(a), np.mean(a), np.median(a))\n",
    "image = a[0]\n",
    "print(\"Dimension of the CT scan is:\", image.shape)\n",
    "plt.imshow(np.squeeze(image[:, :, 256,]), cmap=\"gray\")"
   ]
  },
  {
   "cell_type": "code",
   "execution_count": 5,
   "id": "e3cb30f5",
   "metadata": {
    "execution": {
     "iopub.execute_input": "2021-09-20T20:45:51.878238Z",
     "iopub.status.busy": "2021-09-20T20:45:51.876657Z",
     "iopub.status.idle": "2021-09-20T20:45:51.879036Z",
     "shell.execute_reply": "2021-09-20T20:45:51.879486Z",
     "shell.execute_reply.started": "2021-09-20T20:36:03.003607Z"
    },
    "papermill": {
     "duration": 0.029032,
     "end_time": "2021-09-20T20:45:51.879616",
     "exception": false,
     "start_time": "2021-09-20T20:45:51.850584",
     "status": "completed"
    },
    "tags": []
   },
   "outputs": [],
   "source": [
    "# def plot_slices(num_rows, num_columns, width, height, data):\n",
    "#     \"\"\"Plot a montage of 20 CT slices\"\"\"\n",
    "#     data = np.rot90(np.array(data))  \n",
    "#     data = np.transpose(data)\n",
    "#     data = np.reshape(data, (num_rows, num_columns, width, height))\n",
    "#     rows_data, columns_data = data.shape[0], data.shape[1]\n",
    "#     heights = [slc[0].shape[0] for slc in data]\n",
    "#     widths = [slc.shape[1] for slc in data[0]]\n",
    "#     fig_width = 12.0\n",
    "#     fig_height = fig_width * sum(heights) / sum(widths)\n",
    "#     f, axarr = plt.subplots(\n",
    "#         rows_data,\n",
    "#         columns_data,\n",
    "#         figsize=(fig_width, fig_height),\n",
    "#         gridspec_kw={\"height_ratios\": heights},\n",
    "#     )\n",
    "#     for i in range(rows_data):\n",
    "#         for j in range(columns_data):\n",
    "#             axarr[i, j].imshow(data[i][j], cmap=\"gray\")\n",
    "#             axarr[i, j].axis(\"off\")\n",
    "#     plt.subplots_adjust(wspace=0, hspace=0, left=0, right=1, bottom=0, top=1)\n",
    "#     plt.show()\n",
    "# # Visualize montage of slices.\n",
    "# # 5 rows and 10 columns for 100 slices of the CT scan.\n",
    "# plot_slices(5, 10, IMAGE_SIZE, IMAGE_SIZE, image[:, :, :50])"
   ]
  },
  {
   "cell_type": "markdown",
   "id": "e3d414f1",
   "metadata": {
    "papermill": {
     "duration": 0.021713,
     "end_time": "2021-09-20T20:45:51.922919",
     "exception": false,
     "start_time": "2021-09-20T20:45:51.901206",
     "status": "completed"
    },
    "tags": []
   },
   "source": [
    "# Folds"
   ]
  },
  {
   "cell_type": "code",
   "execution_count": 6,
   "id": "18f56a75",
   "metadata": {
    "execution": {
     "iopub.execute_input": "2021-09-20T20:45:51.971139Z",
     "iopub.status.busy": "2021-09-20T20:45:51.970356Z",
     "iopub.status.idle": "2021-09-20T20:45:51.972780Z",
     "shell.execute_reply": "2021-09-20T20:45:51.972376Z",
     "shell.execute_reply.started": "2021-09-20T20:36:03.014273Z"
    },
    "papermill": {
     "duration": 0.028155,
     "end_time": "2021-09-20T20:45:51.972892",
     "exception": false,
     "start_time": "2021-09-20T20:45:51.944737",
     "status": "completed"
    },
    "tags": []
   },
   "outputs": [],
   "source": [
    "# from sklearn.model_selection import KFold,StratifiedKFold\n",
    "# sfolder = StratifiedKFold(n_splits=5,random_state=13,shuffle=True)\n",
    "# X = train_df[['BraTS21ID']]\n",
    "# y = train_df[['MGMT_value']]\n",
    "\n",
    "# fold_no = 1\n",
    "# for train, valid in sfolder.split(X,y):\n",
    "#     if fold_no==Selected_fold:\n",
    "#         train_df.loc[valid, \"Fold\"] = \"valid\"\n",
    "#     fold_no += 1"
   ]
  },
  {
   "cell_type": "code",
   "execution_count": 7,
   "id": "6d8f2959",
   "metadata": {
    "execution": {
     "iopub.execute_input": "2021-09-20T20:45:52.021747Z",
     "iopub.status.busy": "2021-09-20T20:45:52.021192Z",
     "iopub.status.idle": "2021-09-20T20:45:52.027289Z",
     "shell.execute_reply": "2021-09-20T20:45:52.027664Z",
     "shell.execute_reply.started": "2021-09-20T20:36:03.029229Z"
    },
    "papermill": {
     "duration": 0.033334,
     "end_time": "2021-09-20T20:45:52.027786",
     "exception": false,
     "start_time": "2021-09-20T20:45:51.994452",
     "status": "completed"
    },
    "tags": []
   },
   "outputs": [
    {
     "name": "stdout",
     "output_type": "stream",
     "text": [
      "df_train= 585 -- df_valid= 0\n"
     ]
    }
   ],
   "source": [
    "df_train=train_df[train_df.Fold==\"train\"]\n",
    "df_valid=train_df[train_df.Fold==\"valid\"]\n",
    "print(\"df_train=\",len(df_train),\"-- df_valid=\",len(df_valid))"
   ]
  },
  {
   "cell_type": "code",
   "execution_count": 8,
   "id": "28c58160",
   "metadata": {
    "execution": {
     "iopub.execute_input": "2021-09-20T20:45:52.076037Z",
     "iopub.status.busy": "2021-09-20T20:45:52.075287Z",
     "iopub.status.idle": "2021-09-20T20:45:52.087505Z",
     "shell.execute_reply": "2021-09-20T20:45:52.087928Z",
     "shell.execute_reply.started": "2021-09-20T20:36:03.040402Z"
    },
    "papermill": {
     "duration": 0.038516,
     "end_time": "2021-09-20T20:45:52.088045",
     "exception": false,
     "start_time": "2021-09-20T20:45:52.049529",
     "status": "completed"
    },
    "tags": []
   },
   "outputs": [
    {
     "data": {
      "text/html": [
       "<div>\n",
       "<style scoped>\n",
       "    .dataframe tbody tr th:only-of-type {\n",
       "        vertical-align: middle;\n",
       "    }\n",
       "\n",
       "    .dataframe tbody tr th {\n",
       "        vertical-align: top;\n",
       "    }\n",
       "\n",
       "    .dataframe thead th {\n",
       "        text-align: right;\n",
       "    }\n",
       "</style>\n",
       "<table border=\"1\" class=\"dataframe\">\n",
       "  <thead>\n",
       "    <tr style=\"text-align: right;\">\n",
       "      <th></th>\n",
       "      <th>BraTS21ID</th>\n",
       "      <th>MGMT_value</th>\n",
       "      <th>BraTS21ID5</th>\n",
       "      <th>Fold</th>\n",
       "    </tr>\n",
       "  </thead>\n",
       "  <tbody>\n",
       "    <tr>\n",
       "      <th>0</th>\n",
       "      <td>0</td>\n",
       "      <td>1</td>\n",
       "      <td>00000</td>\n",
       "      <td>train</td>\n",
       "    </tr>\n",
       "    <tr>\n",
       "      <th>1</th>\n",
       "      <td>2</td>\n",
       "      <td>1</td>\n",
       "      <td>00002</td>\n",
       "      <td>train</td>\n",
       "    </tr>\n",
       "    <tr>\n",
       "      <th>2</th>\n",
       "      <td>3</td>\n",
       "      <td>0</td>\n",
       "      <td>00003</td>\n",
       "      <td>train</td>\n",
       "    </tr>\n",
       "    <tr>\n",
       "      <th>3</th>\n",
       "      <td>5</td>\n",
       "      <td>1</td>\n",
       "      <td>00005</td>\n",
       "      <td>train</td>\n",
       "    </tr>\n",
       "    <tr>\n",
       "      <th>4</th>\n",
       "      <td>6</td>\n",
       "      <td>1</td>\n",
       "      <td>00006</td>\n",
       "      <td>train</td>\n",
       "    </tr>\n",
       "    <tr>\n",
       "      <th>...</th>\n",
       "      <td>...</td>\n",
       "      <td>...</td>\n",
       "      <td>...</td>\n",
       "      <td>...</td>\n",
       "    </tr>\n",
       "    <tr>\n",
       "      <th>580</th>\n",
       "      <td>1005</td>\n",
       "      <td>1</td>\n",
       "      <td>01005</td>\n",
       "      <td>train</td>\n",
       "    </tr>\n",
       "    <tr>\n",
       "      <th>581</th>\n",
       "      <td>1007</td>\n",
       "      <td>1</td>\n",
       "      <td>01007</td>\n",
       "      <td>train</td>\n",
       "    </tr>\n",
       "    <tr>\n",
       "      <th>582</th>\n",
       "      <td>1008</td>\n",
       "      <td>1</td>\n",
       "      <td>01008</td>\n",
       "      <td>train</td>\n",
       "    </tr>\n",
       "    <tr>\n",
       "      <th>583</th>\n",
       "      <td>1009</td>\n",
       "      <td>0</td>\n",
       "      <td>01009</td>\n",
       "      <td>train</td>\n",
       "    </tr>\n",
       "    <tr>\n",
       "      <th>584</th>\n",
       "      <td>1010</td>\n",
       "      <td>0</td>\n",
       "      <td>01010</td>\n",
       "      <td>train</td>\n",
       "    </tr>\n",
       "  </tbody>\n",
       "</table>\n",
       "<p>582 rows × 4 columns</p>\n",
       "</div>"
      ],
      "text/plain": [
       "     BraTS21ID  MGMT_value BraTS21ID5   Fold\n",
       "0            0           1      00000  train\n",
       "1            2           1      00002  train\n",
       "2            3           0      00003  train\n",
       "3            5           1      00005  train\n",
       "4            6           1      00006  train\n",
       "..         ...         ...        ...    ...\n",
       "580       1005           1      01005  train\n",
       "581       1007           1      01007  train\n",
       "582       1008           1      01008  train\n",
       "583       1009           0      01009  train\n",
       "584       1010           0      01010  train\n",
       "\n",
       "[582 rows x 4 columns]"
      ]
     },
     "execution_count": 8,
     "metadata": {},
     "output_type": "execute_result"
    }
   ],
   "source": [
    "samples_to_exclude = [109, 123, 709]\n",
    "\n",
    "df_train = df_train[~df_train.BraTS21ID.isin(samples_to_exclude)]\n",
    "df_train"
   ]
  },
  {
   "cell_type": "code",
   "execution_count": null,
   "id": "e35d56d2",
   "metadata": {
    "papermill": {
     "duration": 0.022029,
     "end_time": "2021-09-20T20:45:52.132244",
     "exception": false,
     "start_time": "2021-09-20T20:45:52.110215",
     "status": "completed"
    },
    "tags": []
   },
   "outputs": [],
   "source": []
  },
  {
   "cell_type": "markdown",
   "id": "8f3cc929",
   "metadata": {
    "papermill": {
     "duration": 0.022098,
     "end_time": "2021-09-20T20:45:52.176988",
     "exception": false,
     "start_time": "2021-09-20T20:45:52.154890",
     "status": "completed"
    },
    "tags": []
   },
   "source": [
    "#  Custom Data Generator"
   ]
  },
  {
   "cell_type": "code",
   "execution_count": 9,
   "id": "e20e25e0",
   "metadata": {
    "execution": {
     "iopub.execute_input": "2021-09-20T20:45:52.231809Z",
     "iopub.status.busy": "2021-09-20T20:45:52.231065Z",
     "iopub.status.idle": "2021-09-20T20:45:52.233501Z",
     "shell.execute_reply": "2021-09-20T20:45:52.233107Z",
     "shell.execute_reply.started": "2021-09-20T20:36:03.062830Z"
    },
    "papermill": {
     "duration": 0.034299,
     "end_time": "2021-09-20T20:45:52.233609",
     "exception": false,
     "start_time": "2021-09-20T20:45:52.199310",
     "status": "completed"
    },
    "tags": []
   },
   "outputs": [],
   "source": [
    "from tensorflow.keras.utils import Sequence\n",
    "class Dataset(Sequence):\n",
    "    def __init__(self,df,is_train=True,batch_size=BATCH_SIZE,shuffle=True):\n",
    "        self.idx = df[\"BraTS21ID\"].values\n",
    "        self.paths = df[\"BraTS21ID5\"].values\n",
    "        self.y =  df[\"MGMT_value\"].values\n",
    "        self.is_train = is_train\n",
    "        self.batch_size = batch_size\n",
    "        self.shuffle = shuffle\n",
    "    def __len__(self):\n",
    "        return math.ceil(len(self.idx)/self.batch_size)\n",
    "   \n",
    "    def __getitem__(self,ids):\n",
    "        id_path= self.paths[ids]\n",
    "        batch_paths = self.paths[ids * self.batch_size:(ids + 1) * self.batch_size]\n",
    "        \n",
    "        if self.y is not None:\n",
    "            batch_y = self.y[ids * self.batch_size: (ids + 1) * self.batch_size]\n",
    "        \n",
    "        if self.is_train:\n",
    "            list_x =  [load_all_types_imgs_3d(x,split=\"train\") for x in batch_paths]\n",
    "            batch_X = np.stack(list_x, axis=4)\n",
    "            return batch_X,batch_y\n",
    "        else:\n",
    "            list_x =  load_all_types_imgs_3d(id_path,split=\"test\")#str(scan_id).zfill(5)\n",
    "            batch_X = np.stack(list_x)\n",
    "            return batch_X\n",
    "    \n",
    "    def on_epoch_end(self):\n",
    "        if self.shuffle and self.is_train:\n",
    "            ids_y = list(zip(self.idx, self.paths, self.y))\n",
    "            shuffle(ids_y)\n",
    "            self.idx, self.paths, self.y = list(zip(*ids_y))\n"
   ]
  },
  {
   "cell_type": "code",
   "execution_count": 10,
   "id": "b62eee0d",
   "metadata": {
    "execution": {
     "iopub.execute_input": "2021-09-20T20:45:52.281432Z",
     "iopub.status.busy": "2021-09-20T20:45:52.280892Z",
     "iopub.status.idle": "2021-09-20T20:45:52.284469Z",
     "shell.execute_reply": "2021-09-20T20:45:52.284008Z",
     "shell.execute_reply.started": "2021-09-20T20:36:03.079237Z"
    },
    "papermill": {
     "duration": 0.028785,
     "end_time": "2021-09-20T20:45:52.284578",
     "exception": false,
     "start_time": "2021-09-20T20:45:52.255793",
     "status": "completed"
    },
    "tags": []
   },
   "outputs": [],
   "source": [
    "train_dataset = Dataset(df_train,batch_size=BATCH_SIZE)\n",
    "# valid_dataset = Dataset(df_valid,batch_size=BATCH_SIZE)"
   ]
  },
  {
   "cell_type": "code",
   "execution_count": 11,
   "id": "320f5733",
   "metadata": {
    "execution": {
     "iopub.execute_input": "2021-09-20T20:45:52.343149Z",
     "iopub.status.busy": "2021-09-20T20:45:52.342382Z",
     "iopub.status.idle": "2021-09-20T20:46:08.518630Z",
     "shell.execute_reply": "2021-09-20T20:46:08.519045Z",
     "shell.execute_reply.started": "2021-09-20T20:36:03.092263Z"
    },
    "papermill": {
     "duration": 16.212617,
     "end_time": "2021-09-20T20:46:08.519219",
     "exception": false,
     "start_time": "2021-09-20T20:45:52.306602",
     "status": "completed"
    },
    "tags": []
   },
   "outputs": [
    {
     "name": "stdout",
     "output_type": "stream",
     "text": [
      "Dimension of the CT scan is: (1, 150, 150, 512, 4)\n",
      "label= [1 1 0 1]\n"
     ]
    },
    {
     "data": {
      "image/png": "[encoded data removed]",
      "text/plain": [
       "<Figure size 432x288 with 1 Axes>"
      ]
     },
     "metadata": {
      "needs_background": "light"
     },
     "output_type": "display_data"
    }
   ],
   "source": [
    "for i in range(1):\n",
    "    images, label = train_dataset[i]\n",
    "    print(\"Dimension of the CT scan is:\", images.shape)\n",
    "    print(\"label=\",label)\n",
    "    plt.imshow(images[0,:,:,0,0], cmap=\"gray\")\n",
    "    plt.show()"
   ]
  },
  {
   "cell_type": "markdown",
   "id": "dabeda54",
   "metadata": {
    "papermill": {
     "duration": 0.023202,
     "end_time": "2021-09-20T20:46:08.566651",
     "exception": false,
     "start_time": "2021-09-20T20:46:08.543449",
     "status": "completed"
    },
    "tags": []
   },
   "source": [
    "# Model"
   ]
  },
  {
   "cell_type": "code",
   "execution_count": 12,
   "id": "3703d248",
   "metadata": {
    "execution": {
     "iopub.execute_input": "2021-09-20T20:46:08.625951Z",
     "iopub.status.busy": "2021-09-20T20:46:08.620556Z",
     "iopub.status.idle": "2021-09-20T20:46:10.753311Z",
     "shell.execute_reply": "2021-09-20T20:46:10.752492Z",
     "shell.execute_reply.started": "2021-09-20T20:42:53.371960Z"
    },
    "papermill": {
     "duration": 2.163578,
     "end_time": "2021-09-20T20:46:10.753433",
     "exception": false,
     "start_time": "2021-09-20T20:46:08.589855",
     "status": "completed"
    },
    "tags": []
   },
   "outputs": [
    {
     "name": "stderr",
     "output_type": "stream",
     "text": [
      "2021-09-20 20:46:08.655821: I tensorflow/compiler/jit/xla_cpu_device.cc:41] Not creating XLA devices, tf_xla_enable_xla_devices not set\n",
      "2021-09-20 20:46:08.658632: I tensorflow/stream_executor/platform/default/dso_loader.cc:49] Successfully opened dynamic library libcuda.so.1\n",
      "2021-09-20 20:46:08.707037: I tensorflow/stream_executor/cuda/cuda_gpu_executor.cc:941] successful NUMA node read from SysFS had negative value (-1), but there must be at least one NUMA node, so returning NUMA node zero\n",
      "2021-09-20 20:46:08.707769: I tensorflow/core/common_runtime/gpu/gpu_device.cc:1720] Found device 0 with properties: \n",
      "pciBusID: 0000:00:04.0 name: Tesla P100-PCIE-16GB computeCapability: 6.0\n",
      "coreClock: 1.3285GHz coreCount: 56 deviceMemorySize: 15.90GiB deviceMemoryBandwidth: 681.88GiB/s\n",
      "2021-09-20 20:46:08.707847: I tensorflow/stream_executor/platform/default/dso_loader.cc:49] Successfully opened dynamic library libcudart.so.11.0\n",
      "2021-09-20 20:46:08.743911: I tensorflow/stream_executor/platform/default/dso_loader.cc:49] Successfully opened dynamic library libcublas.so.11\n",
      "2021-09-20 20:46:08.744002: I tensorflow/stream_executor/platform/default/dso_loader.cc:49] Successfully opened dynamic library libcublasLt.so.11\n",
      "2021-09-20 20:46:08.759883: I tensorflow/stream_executor/platform/default/dso_loader.cc:49] Successfully opened dynamic library libcufft.so.10\n",
      "2021-09-20 20:46:08.781125: I tensorflow/stream_executor/platform/default/dso_loader.cc:49] Successfully opened dynamic library libcurand.so.10\n",
      "2021-09-20 20:46:08.808170: I tensorflow/stream_executor/platform/default/dso_loader.cc:49] Successfully opened dynamic library libcusolver.so.10\n",
      "2021-09-20 20:46:08.815504: I tensorflow/stream_executor/platform/default/dso_loader.cc:49] Successfully opened dynamic library libcusparse.so.11\n",
      "2021-09-20 20:46:08.818296: I tensorflow/stream_executor/platform/default/dso_loader.cc:49] Successfully opened dynamic library libcudnn.so.8\n",
      "2021-09-20 20:46:08.818505: I tensorflow/stream_executor/cuda/cuda_gpu_executor.cc:941] successful NUMA node read from SysFS had negative value (-1), but there must be at least one NUMA node, so returning NUMA node zero\n",
      "2021-09-20 20:46:08.819297: I tensorflow/stream_executor/cuda/cuda_gpu_executor.cc:941] successful NUMA node read from SysFS had negative value (-1), but there must be at least one NUMA node, so returning NUMA node zero\n",
      "2021-09-20 20:46:08.821179: I tensorflow/core/common_runtime/gpu/gpu_device.cc:1862] Adding visible gpu devices: 0\n",
      "2021-09-20 20:46:08.821726: I tensorflow/core/platform/cpu_feature_guard.cc:142] This TensorFlow binary is optimized with oneAPI Deep Neural Network Library (oneDNN) to use the following CPU instructions in performance-critical operations:  AVX2 AVX512F FMA\n",
      "To enable them in other operations, rebuild TensorFlow with the appropriate compiler flags.\n",
      "2021-09-20 20:46:08.821973: I tensorflow/compiler/jit/xla_gpu_device.cc:99] Not creating XLA devices, tf_xla_enable_xla_devices not set\n",
      "2021-09-20 20:46:08.822182: I tensorflow/stream_executor/cuda/cuda_gpu_executor.cc:941] successful NUMA node read from SysFS had negative value (-1), but there must be at least one NUMA node, so returning NUMA node zero\n",
      "2021-09-20 20:46:08.822930: I tensorflow/core/common_runtime/gpu/gpu_device.cc:1720] Found device 0 with properties: \n",
      "pciBusID: 0000:00:04.0 name: Tesla P100-PCIE-16GB computeCapability: 6.0\n",
      "coreClock: 1.3285GHz coreCount: 56 deviceMemorySize: 15.90GiB deviceMemoryBandwidth: 681.88GiB/s\n",
      "2021-09-20 20:46:08.822991: I tensorflow/stream_executor/platform/default/dso_loader.cc:49] Successfully opened dynamic library libcudart.so.11.0\n",
      "2021-09-20 20:46:08.823024: I tensorflow/stream_executor/platform/default/dso_loader.cc:49] Successfully opened dynamic library libcublas.so.11\n",
      "2021-09-20 20:46:08.823044: I tensorflow/stream_executor/platform/default/dso_loader.cc:49] Successfully opened dynamic library libcublasLt.so.11\n",
      "2021-09-20 20:46:08.823062: I tensorflow/stream_executor/platform/default/dso_loader.cc:49] Successfully opened dynamic library libcufft.so.10\n",
      "2021-09-20 20:46:08.823080: I tensorflow/stream_executor/platform/default/dso_loader.cc:49] Successfully opened dynamic library libcurand.so.10\n",
      "2021-09-20 20:46:08.823111: I tensorflow/stream_executor/platform/default/dso_loader.cc:49] Successfully opened dynamic library libcusolver.so.10\n",
      "2021-09-20 20:46:08.823143: I tensorflow/stream_executor/platform/default/dso_loader.cc:49] Successfully opened dynamic library libcusparse.so.11\n",
      "2021-09-20 20:46:08.823160: I tensorflow/stream_executor/platform/default/dso_loader.cc:49] Successfully opened dynamic library libcudnn.so.8\n",
      "2021-09-20 20:46:08.823236: I tensorflow/stream_executor/cuda/cuda_gpu_executor.cc:941] successful NUMA node read from SysFS had negative value (-1), but there must be at least one NUMA node, so returning NUMA node zero\n",
      "2021-09-20 20:46:08.823902: I tensorflow/stream_executor/cuda/cuda_gpu_executor.cc:941] successful NUMA node read from SysFS had negative value (-1), but there must be at least one NUMA node, so returning NUMA node zero\n",
      "2021-09-20 20:46:08.824478: I tensorflow/core/common_runtime/gpu/gpu_device.cc:1862] Adding visible gpu devices: 0\n",
      "2021-09-20 20:46:08.825555: I tensorflow/stream_executor/platform/default/dso_loader.cc:49] Successfully opened dynamic library libcudart.so.11.0\n",
      "2021-09-20 20:46:10.270483: I tensorflow/core/common_runtime/gpu/gpu_device.cc:1261] Device interconnect StreamExecutor with strength 1 edge matrix:\n",
      "2021-09-20 20:46:10.270529: I tensorflow/core/common_runtime/gpu/gpu_device.cc:1267]      0 \n",
      "2021-09-20 20:46:10.270539: I tensorflow/core/common_runtime/gpu/gpu_device.cc:1280] 0:   N \n",
      "2021-09-20 20:46:10.272634: I tensorflow/stream_executor/cuda/cuda_gpu_executor.cc:941] successful NUMA node read from SysFS had negative value (-1), but there must be at least one NUMA node, so returning NUMA node zero\n",
      "2021-09-20 20:46:10.273388: I tensorflow/stream_executor/cuda/cuda_gpu_executor.cc:941] successful NUMA node read from SysFS had negative value (-1), but there must be at least one NUMA node, so returning NUMA node zero\n",
      "2021-09-20 20:46:10.274042: I tensorflow/stream_executor/cuda/cuda_gpu_executor.cc:941] successful NUMA node read from SysFS had negative value (-1), but there must be at least one NUMA node, so returning NUMA node zero\n",
      "2021-09-20 20:46:10.274611: I tensorflow/core/common_runtime/gpu/gpu_device.cc:1406] Created TensorFlow device (/job:localhost/replica:0/task:0/device:GPU:0 with 14957 MB memory) -> physical GPU (device: 0, name: Tesla P100-PCIE-16GB, pci bus id: 0000:00:04.0, compute capability: 6.0)\n"
     ]
    },
    {
     "name": "stdout",
     "output_type": "stream",
     "text": [
      "Model: \"3dcnn\"\n",
      "_________________________________________________________________\n",
      "Layer (type)                 Output Shape              Param #   \n",
      "=================================================================\n",
      "input_1 (InputLayer)         [(None, 150, 150, 512, 1) 0         \n",
      "_________________________________________________________________\n",
      "conv3d_2 (Conv3D)            (None, 148, 148, 510, 64) 1792      \n",
      "_________________________________________________________________\n",
      "max_pooling3d_2 (MaxPooling3 (None, 74, 74, 255, 64)   0         \n",
      "_________________________________________________________________\n",
      "batch_normalization_2 (Batch (None, 74, 74, 255, 64)   256       \n",
      "_________________________________________________________________\n",
      "dropout (Dropout)            (None, 74, 74, 255, 64)   0         \n",
      "_________________________________________________________________\n",
      "conv3d_3 (Conv3D)            (None, 72, 72, 253, 128)  221312    \n",
      "_________________________________________________________________\n",
      "max_pooling3d_3 (MaxPooling3 (None, 36, 36, 126, 128)  0         \n",
      "_________________________________________________________________\n",
      "batch_normalization_3 (Batch (None, 36, 36, 126, 128)  512       \n",
      "_________________________________________________________________\n",
      "dropout_1 (Dropout)          (None, 36, 36, 126, 128)  0         \n",
      "_________________________________________________________________\n",
      "conv3d_4 (Conv3D)            (None, 34, 34, 124, 256)  884992    \n",
      "_________________________________________________________________\n",
      "max_pooling3d_4 (MaxPooling3 (None, 17, 17, 62, 256)   0         \n",
      "_________________________________________________________________\n",
      "batch_normalization_4 (Batch (None, 17, 17, 62, 256)   1024      \n",
      "_________________________________________________________________\n",
      "dropout_2 (Dropout)          (None, 17, 17, 62, 256)   0         \n",
      "_________________________________________________________________\n",
      "conv3d_5 (Conv3D)            (None, 15, 15, 60, 512)   3539456   \n",
      "_________________________________________________________________\n",
      "max_pooling3d_5 (MaxPooling3 (None, 7, 7, 30, 512)     0         \n",
      "_________________________________________________________________\n",
      "batch_normalization_5 (Batch (None, 7, 7, 30, 512)     2048      \n",
      "_________________________________________________________________\n",
      "dropout_3 (Dropout)          (None, 7, 7, 30, 512)     0         \n",
      "_________________________________________________________________\n",
      "global_average_pooling3d (Gl (None, 512)               0         \n",
      "_________________________________________________________________\n",
      "dense (Dense)                (None, 1024)              525312    \n",
      "_________________________________________________________________\n",
      "dropout_4 (Dropout)          (None, 1024)              0         \n",
      "_________________________________________________________________\n",
      "dense_1 (Dense)              (None, 1)                 1025      \n",
      "=================================================================\n",
      "Total params: 5,177,729\n",
      "Trainable params: 5,175,809\n",
      "Non-trainable params: 1,920\n",
      "_________________________________________________________________\n"
     ]
    }
   ],
   "source": [
    "def get_model(width=IMAGE_SIZE, height=IMAGE_SIZE, depth=512):\n",
    "    \"\"\"Build a 3D convolutional neural network model.\"\"\"\n",
    "\n",
    "    inputs = keras.Input((width, height, depth, 1))\n",
    "     \n",
    "    x = layers.Conv3D(filters=32, kernel_size=3, activation=\"relu\")(inputs)\n",
    "    x = layers.MaxPool3D(pool_size=2)(x)\n",
    "    x = layers.BatchNormalization()(x)\n",
    "    \n",
    "    x = layers.Conv3D(filters=32, kernel_size=3, activation=\"relu\")(inputs)\n",
    "    x = layers.MaxPool3D(pool_size=2)(x)\n",
    "    x = layers.BatchNormalization()(x)\n",
    "    \n",
    "    x = layers.Conv3D(filters=64, kernel_size=3, activation=\"relu\")(inputs)\n",
    "    x = layers.MaxPool3D(pool_size=2)(x)\n",
    "    x = layers.BatchNormalization()(x)\n",
    "    x = layers.Dropout(0.01)(x)\n",
    "    \n",
    "    x = layers.Conv3D(filters=128, kernel_size=3, activation=\"relu\")(x)\n",
    "    x = layers.MaxPool3D(pool_size=2)(x)\n",
    "    x = layers.BatchNormalization()(x)\n",
    "    x = layers.Dropout(0.02)(x)\n",
    "\n",
    "    x = layers.Conv3D(filters=256, kernel_size=3, activation=\"relu\")(x)\n",
    "    x = layers.MaxPool3D(pool_size=2)(x)\n",
    "    x = layers.BatchNormalization()(x)\n",
    "    x = layers.Dropout(0.03)(x)\n",
    "\n",
    "    x = layers.Conv3D(filters=512, kernel_size=3, activation=\"relu\")(x)\n",
    "    x = layers.MaxPool3D(pool_size=2)(x)\n",
    "    x = layers.BatchNormalization()(x)\n",
    "    x = layers.Dropout(0.04)(x)\n",
    "\n",
    "    x = layers.GlobalAveragePooling3D()(x)\n",
    "    x = layers.Dense(units=1024, activation=\"relu\")(x)\n",
    "    x = layers.Dropout(0.08)(x)\n",
    "\n",
    "    outputs = layers.Dense(units=1, activation=\"sigmoid\")(x)\n",
    "\n",
    "    # Define the model.\n",
    "    model = keras.Model(inputs, outputs, name=\"3dcnn\")\n",
    "\n",
    "    return model\n",
    "\n",
    "# Build model.\n",
    "model = get_model(width=IMAGE_SIZE, height=IMAGE_SIZE, depth=512)\n",
    "model.summary()"
   ]
  },
  {
   "cell_type": "code",
   "execution_count": 13,
   "id": "06308df0",
   "metadata": {
    "execution": {
     "iopub.execute_input": "2021-09-20T20:46:10.813489Z",
     "iopub.status.busy": "2021-09-20T20:46:10.812653Z",
     "iopub.status.idle": "2021-09-21T05:33:00.044332Z",
     "shell.execute_reply": "2021-09-21T05:33:00.044747Z",
     "shell.execute_reply.started": "2021-09-20T20:43:04.263774Z"
    },
    "papermill": {
     "duration": 31609.267169,
     "end_time": "2021-09-21T05:33:00.045432",
     "exception": false,
     "start_time": "2021-09-20T20:46:10.778263",
     "status": "completed"
    },
    "tags": []
   },
   "outputs": [
    {
     "name": "stderr",
     "output_type": "stream",
     "text": [
      "2021-09-20 20:46:19.494500: I tensorflow/compiler/mlir/mlir_graph_optimization_pass.cc:116] None of the MLIR optimization passes are enabled (registered 2)\n",
      "2021-09-20 20:46:19.498564: I tensorflow/core/platform/profile_utils/cpu_utils.cc:112] CPU Frequency: 2000179999 Hz\n"
     ]
    },
    {
     "name": "stdout",
     "output_type": "stream",
     "text": [
      "Epoch 1/15\n"
     ]
    },
    {
     "name": "stderr",
     "output_type": "stream",
     "text": [
      "2021-09-20 20:46:20.987875: I tensorflow/stream_executor/platform/default/dso_loader.cc:49] Successfully opened dynamic library libcublas.so.11\n",
      "2021-09-20 20:46:21.853109: I tensorflow/stream_executor/platform/default/dso_loader.cc:49] Successfully opened dynamic library libcublasLt.so.11\n",
      "2021-09-20 20:46:42.017702: I tensorflow/stream_executor/platform/default/dso_loader.cc:49] Successfully opened dynamic library libcudnn.so.8\n"
     ]
    },
    {
     "name": "stdout",
     "output_type": "stream",
     "text": [
      "146/146 [==============================] - 2104s 14s/step - loss: 0.7076 - auc: 0.4716 - acc: 0.5316\n",
      "\n",
      "Epoch 00001: loss improved from inf to 0.70166, saving model to Brain_3d all_MRI_types no_fold.h5\n",
      "Epoch 2/15\n",
      "146/146 [==============================] - 2156s 15s/step - loss: 0.6955 - auc: 0.4585 - acc: 0.4832\n",
      "\n",
      "Epoch 00002: loss improved from 0.70166 to 0.69430, saving model to Brain_3d all_MRI_types no_fold.h5\n",
      "Epoch 3/15\n",
      "146/146 [==============================] - 2154s 15s/step - loss: 0.6932 - auc: 0.4533 - acc: 0.5351\n",
      "\n",
      "Epoch 00003: loss improved from 0.69430 to 0.69372, saving model to Brain_3d all_MRI_types no_fold.h5\n",
      "Epoch 4/15\n",
      "146/146 [==============================] - 2191s 15s/step - loss: 0.6927 - auc: 0.4730 - acc: 0.5323\n",
      "\n",
      "Epoch 00004: loss improved from 0.69372 to 0.69342, saving model to Brain_3d all_MRI_types no_fold.h5\n",
      "Epoch 5/15\n",
      "146/146 [==============================] - 2174s 15s/step - loss: 0.6912 - auc: 0.4707 - acc: 0.5469\n",
      "\n",
      "Epoch 00005: loss improved from 0.69342 to 0.69274, saving model to Brain_3d all_MRI_types no_fold.h5\n",
      "Epoch 6/15\n",
      "146/146 [==============================] - 2201s 15s/step - loss: 0.6937 - auc: 0.4322 - acc: 0.5086\n",
      "\n",
      "Epoch 00006: loss improved from 0.69274 to 0.69244, saving model to Brain_3d all_MRI_types no_fold.h5\n",
      "Epoch 7/15\n",
      "146/146 [==============================] - 2097s 14s/step - loss: 0.6916 - auc: 0.4921 - acc: 0.5398\n",
      "\n",
      "Epoch 00007: loss did not improve from 0.69244\n",
      "Epoch 8/15\n",
      "146/146 [==============================] - 2083s 14s/step - loss: 0.6973 - auc: 0.4727 - acc: 0.4889\n",
      "\n",
      "Epoch 00008: loss did not improve from 0.69244\n",
      "Epoch 9/15\n",
      "146/146 [==============================] - 2072s 14s/step - loss: 0.7124 - auc: 0.4494 - acc: 0.4631\n",
      "\n",
      "Epoch 00009: loss did not improve from 0.69244\n",
      "Epoch 10/15\n",
      "146/146 [==============================] - 2043s 14s/step - loss: 0.6918 - auc: 0.4493 - acc: 0.5351\n",
      "\n",
      "Epoch 00010: loss did not improve from 0.69244\n",
      "Epoch 11/15\n",
      "146/146 [==============================] - 2097s 14s/step - loss: 0.6900 - auc: 0.4515 - acc: 0.5499\n",
      "\n",
      "Epoch 00011: loss did not improve from 0.69244\n",
      "Epoch 12/15\n",
      "146/146 [==============================] - 2075s 14s/step - loss: 0.6916 - auc: 0.4582 - acc: 0.5311\n",
      "\n",
      "Epoch 00012: loss improved from 0.69244 to 0.69213, saving model to Brain_3d all_MRI_types no_fold.h5\n",
      "Epoch 13/15\n",
      "146/146 [==============================] - 2050s 14s/step - loss: 0.6925 - auc: 0.4867 - acc: 0.5205\n",
      "\n",
      "Epoch 00013: loss improved from 0.69213 to 0.69205, saving model to Brain_3d all_MRI_types no_fold.h5\n",
      "Epoch 14/15\n",
      "146/146 [==============================] - 2038s 14s/step - loss: 0.6882 - auc: 0.4650 - acc: 0.5621\n",
      "\n",
      "Epoch 00014: loss did not improve from 0.69205\n",
      "Epoch 15/15\n",
      "146/146 [==============================] - 2065s 14s/step - loss: 0.6913 - auc: 0.4828 - acc: 0.5348\n",
      "\n",
      "Epoch 00015: loss did not improve from 0.69205\n"
     ]
    }
   ],
   "source": [
    "# Compile model.\n",
    "initial_learning_rate = 0.003\n",
    "lr_schedule = keras.optimizers.schedules.ExponentialDecay(\n",
    "    initial_learning_rate, decay_steps=100000, decay_rate=0.96, staircase=False\n",
    ")\n",
    "model.compile(\n",
    "    loss=tf.keras.losses.BinaryCrossentropy(from_logits=True),\n",
    "    optimizer=keras.optimizers.Adam(learning_rate=lr_schedule),\n",
    "    metrics=[AUC(name='auc'),\"acc\"],\n",
    ")\n",
    "# Define callbacks.\n",
    "model_save = ModelCheckpoint('Brain_3d all_MRI_types no_fold.h5', \n",
    "                             save_best_only = True, \n",
    "                             monitor = 'loss', \n",
    "                             mode = 'min', verbose = 1,\n",
    "                             save_weights_only = False)\n",
    "early_stop = EarlyStopping(monitor = 'loss', \n",
    "                           patience = 10, mode = 'min', verbose = 1,\n",
    "                           restore_best_weights = True)\n",
    "\n",
    "# Train the model, doing validation at the end of each epoch\n",
    "epochs = 15\n",
    "history = model.fit(\n",
    "    train_dataset,\n",
    "#     validation_data=valid_dataset,\n",
    "    epochs=epochs,\n",
    "    shuffle=True,\n",
    "    verbose=1,\n",
    "    callbacks = [model_save, early_stop] #early_stop\n",
    ")"
   ]
  },
  {
   "cell_type": "markdown",
   "id": "547ee46c",
   "metadata": {
    "papermill": {
     "duration": 0.609126,
     "end_time": "2021-09-21T05:33:01.459370",
     "exception": false,
     "start_time": "2021-09-21T05:33:00.850244",
     "status": "completed"
    },
    "tags": []
   },
   "source": [
    "# Visualizing model performance"
   ]
  },
  {
   "cell_type": "code",
   "execution_count": 14,
   "id": "5b51e14b",
   "metadata": {
    "execution": {
     "iopub.execute_input": "2021-09-21T05:33:02.684958Z",
     "iopub.status.busy": "2021-09-21T05:33:02.681924Z",
     "iopub.status.idle": "2021-09-21T05:33:03.231405Z",
     "shell.execute_reply": "2021-09-21T05:33:03.231827Z",
     "shell.execute_reply.started": "2021-09-20T20:41:19.479383Z"
    },
    "papermill": {
     "duration": 1.183075,
     "end_time": "2021-09-21T05:33:03.231970",
     "exception": false,
     "start_time": "2021-09-21T05:33:02.048895",
     "status": "completed"
    },
    "tags": []
   },
   "outputs": [
    {
     "data": {
      "image/png": "[encoded data removed]",
      "text/plain": [
       "<Figure size 1440x504 with 3 Axes>"
      ]
     },
     "metadata": {
      "needs_background": "light"
     },
     "output_type": "display_data"
    }
   ],
   "source": [
    "fig, ax = plt.subplots(1, 3, figsize=(20, 7))\n",
    "ax = ax.ravel()\n",
    "\n",
    "for i, metric in enumerate([\"acc\",\"auc\",\"loss\"]):\n",
    "    ax[i].plot(model.history.history[metric])\n",
    "#     ax[i].plot(model.history.history[\"val_\" + metric])\n",
    "    ax[i].set_title(\"Model {}\".format(metric))\n",
    "    ax[i].set_xlabel(\"epochs\")\n",
    "    ax[i].set_ylabel(metric)\n",
    "    ax[i].legend([\"train\"])#, \"val\""
   ]
  },
  {
   "cell_type": "markdown",
   "id": "7d3182f3",
   "metadata": {
    "papermill": {
     "duration": 0.597102,
     "end_time": "2021-09-21T05:33:04.418921",
     "exception": false,
     "start_time": "2021-09-21T05:33:03.821819",
     "status": "completed"
    },
    "tags": []
   },
   "source": [
    "# Make predictions"
   ]
  },
  {
   "cell_type": "code",
   "execution_count": 15,
   "id": "104927e2",
   "metadata": {
    "execution": {
     "iopub.execute_input": "2021-09-21T05:33:05.615190Z",
     "iopub.status.busy": "2021-09-21T05:33:05.614636Z",
     "iopub.status.idle": "2021-09-21T05:33:10.204617Z",
     "shell.execute_reply": "2021-09-21T05:33:10.204983Z",
     "shell.execute_reply.started": "2021-09-20T20:41:19.481277Z"
    },
    "papermill": {
     "duration": 5.192921,
     "end_time": "2021-09-21T05:33:10.205154",
     "exception": false,
     "start_time": "2021-09-21T05:33:05.012233",
     "status": "completed"
    },
    "tags": []
   },
   "outputs": [
    {
     "name": "stdout",
     "output_type": "stream",
     "text": [
      "Dimension of the CT scan is: (1, 150, 150, 512)\n"
     ]
    },
    {
     "data": {
      "image/png": "[encoded data removed]",
      "text/plain": [
       "<Figure size 432x288 with 1 Axes>"
      ]
     },
     "metadata": {
      "needs_background": "light"
     },
     "output_type": "display_data"
    }
   ],
   "source": [
    "test_dataset = Dataset(test,is_train=False,batch_size=1)\n",
    "\n",
    "\n",
    "for i in range(1):\n",
    "    image = test_dataset[i]\n",
    "    print(\"Dimension of the CT scan is:\", image.shape)\n",
    "    plt.imshow(image[0,:,:, 32], cmap=\"gray\")\n",
    "    plt.show()"
   ]
  },
  {
   "cell_type": "code",
   "execution_count": 16,
   "id": "02b6115b",
   "metadata": {
    "execution": {
     "iopub.execute_input": "2021-09-21T05:33:11.476825Z",
     "iopub.status.busy": "2021-09-21T05:33:11.475829Z",
     "iopub.status.idle": "2021-09-21T05:38:18.077589Z",
     "shell.execute_reply": "2021-09-21T05:38:18.077068Z",
     "shell.execute_reply.started": "2021-09-20T20:41:19.487264Z"
    },
    "papermill": {
     "duration": 307.270273,
     "end_time": "2021-09-21T05:38:18.077724",
     "exception": false,
     "start_time": "2021-09-21T05:33:10.807451",
     "status": "completed"
    },
    "tags": []
   },
   "outputs": [],
   "source": [
    "preds = model.predict(test_dataset)\n",
    "preds = preds.reshape(-1)"
   ]
  },
  {
   "cell_type": "code",
   "execution_count": 17,
   "id": "d11783bc",
   "metadata": {
    "execution": {
     "iopub.execute_input": "2021-09-21T05:38:19.270435Z",
     "iopub.status.busy": "2021-09-21T05:38:19.269420Z",
     "iopub.status.idle": "2021-09-21T05:38:19.273348Z",
     "shell.execute_reply": "2021-09-21T05:38:19.272908Z",
     "shell.execute_reply.started": "2021-09-20T20:41:19.489169Z"
    },
    "papermill": {
     "duration": 0.605116,
     "end_time": "2021-09-21T05:38:19.273468",
     "exception": false,
     "start_time": "2021-09-21T05:38:18.668352",
     "status": "completed"
    },
    "tags": []
   },
   "outputs": [
    {
     "data": {
      "text/plain": [
       "array([0.3317059 , 0.5493555 , 0.3328164 , 0.58059335, 0.51788217,\n",
       "       0.625228  , 0.63595206, 0.6459956 , 0.35649735, 0.5632793 ,\n",
       "       0.8600965 , 0.83575773, 0.84978384, 0.78034586, 0.79749936,\n",
       "       0.7308867 , 0.6879892 , 0.6969776 , 0.60385   , 0.63006026,\n",
       "       0.6462681 , 0.8546543 , 0.6568019 , 0.61001885, 0.6252488 ,\n",
       "       0.68894917, 0.7315573 , 0.61179453, 0.6381596 , 0.715304  ,\n",
       "       0.6487555 , 0.84828466, 0.6201022 , 0.65085524, 0.7143363 ,\n",
       "       0.6987447 , 0.69876415, 0.7175782 , 0.74684024, 0.5742453 ,\n",
       "       0.67244536, 0.6844434 , 0.7580015 , 0.6694129 , 0.7241427 ,\n",
       "       0.48761734, 0.6036726 , 0.47620228, 0.73488617, 0.83531547,\n",
       "       0.11128812, 0.79684764, 0.83216274, 0.7680217 , 0.8172764 ,\n",
       "       0.8179916 , 0.7665531 , 0.51325047, 0.62792283, 0.7886211 ,\n",
       "       0.60341495, 0.7606783 , 0.5285926 , 0.46658176, 0.7307315 ,\n",
       "       0.78050584, 0.7771437 , 0.80500793, 0.7811704 , 0.6334255 ,\n",
       "       0.6805332 , 0.81566817, 0.7275406 , 0.79098487, 0.7473849 ,\n",
       "       0.7546177 , 0.79795796, 0.8125339 , 0.7527605 , 0.9093289 ,\n",
       "       0.89517236, 0.89501196, 0.66856414, 0.8649794 , 0.63428515,\n",
       "       0.7880784 , 0.76336896], dtype=float32)"
      ]
     },
     "execution_count": 17,
     "metadata": {},
     "output_type": "execute_result"
    }
   ],
   "source": [
    "preds"
   ]
  },
  {
   "cell_type": "code",
   "execution_count": 18,
   "id": "bb9bf0ad",
   "metadata": {
    "execution": {
     "iopub.execute_input": "2021-09-21T05:38:20.770272Z",
     "iopub.status.busy": "2021-09-21T05:38:20.769526Z",
     "iopub.status.idle": "2021-09-21T05:38:20.772493Z",
     "shell.execute_reply": "2021-09-21T05:38:20.772902Z",
     "shell.execute_reply.started": "2021-09-20T20:41:19.491329Z"
    },
    "papermill": {
     "duration": 0.627344,
     "end_time": "2021-09-21T05:38:20.773041",
     "exception": false,
     "start_time": "2021-09-21T05:38:20.145697",
     "status": "completed"
    },
    "tags": []
   },
   "outputs": [
    {
     "data": {
      "text/html": [
       "<div>\n",
       "<style scoped>\n",
       "    .dataframe tbody tr th:only-of-type {\n",
       "        vertical-align: middle;\n",
       "    }\n",
       "\n",
       "    .dataframe tbody tr th {\n",
       "        vertical-align: top;\n",
       "    }\n",
       "\n",
       "    .dataframe thead th {\n",
       "        text-align: right;\n",
       "    }\n",
       "</style>\n",
       "<table border=\"1\" class=\"dataframe\">\n",
       "  <thead>\n",
       "    <tr style=\"text-align: right;\">\n",
       "      <th></th>\n",
       "      <th>BraTS21ID</th>\n",
       "      <th>MGMT_value</th>\n",
       "    </tr>\n",
       "  </thead>\n",
       "  <tbody>\n",
       "    <tr>\n",
       "      <th>0</th>\n",
       "      <td>1</td>\n",
       "      <td>0.331706</td>\n",
       "    </tr>\n",
       "    <tr>\n",
       "      <th>1</th>\n",
       "      <td>13</td>\n",
       "      <td>0.549356</td>\n",
       "    </tr>\n",
       "    <tr>\n",
       "      <th>2</th>\n",
       "      <td>15</td>\n",
       "      <td>0.332816</td>\n",
       "    </tr>\n",
       "    <tr>\n",
       "      <th>3</th>\n",
       "      <td>27</td>\n",
       "      <td>0.580593</td>\n",
       "    </tr>\n",
       "    <tr>\n",
       "      <th>4</th>\n",
       "      <td>37</td>\n",
       "      <td>0.517882</td>\n",
       "    </tr>\n",
       "    <tr>\n",
       "      <th>...</th>\n",
       "      <td>...</td>\n",
       "      <td>...</td>\n",
       "    </tr>\n",
       "    <tr>\n",
       "      <th>82</th>\n",
       "      <td>826</td>\n",
       "      <td>0.668564</td>\n",
       "    </tr>\n",
       "    <tr>\n",
       "      <th>83</th>\n",
       "      <td>829</td>\n",
       "      <td>0.864979</td>\n",
       "    </tr>\n",
       "    <tr>\n",
       "      <th>84</th>\n",
       "      <td>833</td>\n",
       "      <td>0.634285</td>\n",
       "    </tr>\n",
       "    <tr>\n",
       "      <th>85</th>\n",
       "      <td>997</td>\n",
       "      <td>0.788078</td>\n",
       "    </tr>\n",
       "    <tr>\n",
       "      <th>86</th>\n",
       "      <td>1006</td>\n",
       "      <td>0.763369</td>\n",
       "    </tr>\n",
       "  </tbody>\n",
       "</table>\n",
       "<p>87 rows × 2 columns</p>\n",
       "</div>"
      ],
      "text/plain": [
       "    BraTS21ID  MGMT_value\n",
       "0           1    0.331706\n",
       "1          13    0.549356\n",
       "2          15    0.332816\n",
       "3          27    0.580593\n",
       "4          37    0.517882\n",
       "..        ...         ...\n",
       "82        826    0.668564\n",
       "83        829    0.864979\n",
       "84        833    0.634285\n",
       "85        997    0.788078\n",
       "86       1006    0.763369\n",
       "\n",
       "[87 rows x 2 columns]"
      ]
     },
     "execution_count": 18,
     "metadata": {},
     "output_type": "execute_result"
    }
   ],
   "source": [
    "submission = pd.DataFrame({'BraTS21ID':sample_submission['BraTS21ID'],'MGMT_value':preds})\n",
    "submission"
   ]
  },
  {
   "cell_type": "code",
   "execution_count": 19,
   "id": "03acdb57",
   "metadata": {
    "execution": {
     "iopub.execute_input": "2021-09-21T05:38:21.966972Z",
     "iopub.status.busy": "2021-09-21T05:38:21.966429Z",
     "iopub.status.idle": "2021-09-21T05:38:21.976392Z",
     "shell.execute_reply": "2021-09-21T05:38:21.975891Z",
     "shell.execute_reply.started": "2021-09-20T20:41:19.496505Z"
    },
    "papermill": {
     "duration": 0.605455,
     "end_time": "2021-09-21T05:38:21.976514",
     "exception": false,
     "start_time": "2021-09-21T05:38:21.371059",
     "status": "completed"
    },
    "tags": []
   },
   "outputs": [],
   "source": [
    "submission.to_csv('submission.csv',index=False)"
   ]
  },
  {
   "cell_type": "code",
   "execution_count": 20,
   "id": "4951f915",
   "metadata": {
    "execution": {
     "iopub.execute_input": "2021-09-21T05:38:23.222470Z",
     "iopub.status.busy": "2021-09-21T05:38:23.220795Z",
     "iopub.status.idle": "2021-09-21T05:38:23.397505Z",
     "shell.execute_reply": "2021-09-21T05:38:23.396307Z",
     "shell.execute_reply.started": "2021-09-20T20:41:19.498795Z"
    },
    "papermill": {
     "duration": 0.815478,
     "end_time": "2021-09-21T05:38:23.397654",
     "exception": false,
     "start_time": "2021-09-21T05:38:22.582176",
     "status": "completed"
    },
    "tags": []
   },
   "outputs": [
    {
     "data": {
      "image/png": "[encoded data removed]",
      "text/plain": [
       "<Figure size 360x360 with 1 Axes>"
      ]
     },
     "metadata": {
      "needs_background": "light"
     },
     "output_type": "display_data"
    }
   ],
   "source": [
    "plt.figure(figsize=(5, 5))\n",
    "plt.hist(submission[\"MGMT_value\"]);"
   ]
  }
 ],
 "metadata": {
  "kernelspec": {
   "display_name": "Python 3",
   "language": "python",
   "name": "python3"
  },
  "language_info": {
   "codemirror_mode": {
    "name": "ipython",
    "version": 3
   },
   "file_extension": ".py",
   "mimetype": "text/x-python",
   "name": "python",
   "nbconvert_exporter": "python",
   "pygments_lexer": "ipython3",
   "version": "3.7.10"
  },
  "papermill": {
   "default_parameters": {},
   "duration": 31976.72369,
   "end_time": "2021-09-21T05:38:31.120075",
   "environment_variables": {},
   "exception": null,
   "input_path": "__notebook__.ipynb",
   "output_path": "__notebook__.ipynb",
   "parameters": {},
   "start_time": "2021-09-20T20:45:34.396385",
   "version": "2.3.3"
  }
 },
 "nbformat": 4,
 "nbformat_minor": 5
}
